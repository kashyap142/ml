{
 "cells": [
  {
   "cell_type": "code",
   "execution_count": 1,
   "id": "aa9fe1ea-53ea-4405-ab66-db06acd7d5a8",
   "metadata": {},
   "outputs": [],
   "source": [
    "import numpy as np\n",
    "import pandas as pd"
   ]
  },
  {
   "cell_type": "code",
   "execution_count": 2,
   "id": "838194d3-ecb2-4bb6-88bc-34a8723b4221",
   "metadata": {
    "scrolled": true
   },
   "outputs": [
    {
     "data": {
      "text/html": [
       "<div>\n",
       "<style scoped>\n",
       "    .dataframe tbody tr th:only-of-type {\n",
       "        vertical-align: middle;\n",
       "    }\n",
       "\n",
       "    .dataframe tbody tr th {\n",
       "        vertical-align: top;\n",
       "    }\n",
       "\n",
       "    .dataframe thead th {\n",
       "        text-align: right;\n",
       "    }\n",
       "</style>\n",
       "<table border=\"1\" class=\"dataframe\">\n",
       "  <thead>\n",
       "    <tr style=\"text-align: right;\">\n",
       "      <th></th>\n",
       "      <th>text</th>\n",
       "      <th>spam</th>\n",
       "    </tr>\n",
       "  </thead>\n",
       "  <tbody>\n",
       "    <tr>\n",
       "      <th>482</th>\n",
       "      <td>Subject: debt information tue , 28 jun 2005 . ...</td>\n",
       "      <td>1</td>\n",
       "    </tr>\n",
       "    <tr>\n",
       "      <th>4669</th>\n",
       "      <td>Subject: informal interview with the enron res...</td>\n",
       "      <td>0</td>\n",
       "    </tr>\n",
       "    <tr>\n",
       "      <th>309</th>\n",
       "      <td>Subject: viagra is the # 1 med to struggle wit...</td>\n",
       "      <td>1</td>\n",
       "    </tr>\n",
       "    <tr>\n",
       "      <th>5543</th>\n",
       "      <td>Subject: weijun decided not to interview  i gu...</td>\n",
       "      <td>0</td>\n",
       "    </tr>\n",
       "  </tbody>\n",
       "</table>\n",
       "</div>"
      ],
      "text/plain": [
       "                                                   text  spam\n",
       "482   Subject: debt information tue , 28 jun 2005 . ...     1\n",
       "4669  Subject: informal interview with the enron res...     0\n",
       "309   Subject: viagra is the # 1 med to struggle wit...     1\n",
       "5543  Subject: weijun decided not to interview  i gu...     0"
      ]
     },
     "execution_count": 2,
     "metadata": {},
     "output_type": "execute_result"
    }
   ],
   "source": [
    "df = pd.read_csv(\"./dataset/email.csv\")\n",
    "df.sample(4)"
   ]
  },
  {
   "cell_type": "code",
   "execution_count": 3,
   "id": "964c8709-18a4-4a9b-aef8-9b9cd1ceb0cd",
   "metadata": {},
   "outputs": [
    {
     "data": {
      "text/plain": [
       "(5728, 2)"
      ]
     },
     "execution_count": 3,
     "metadata": {},
     "output_type": "execute_result"
    }
   ],
   "source": [
    "df.shape"
   ]
  },
  {
   "cell_type": "code",
   "execution_count": 4,
   "id": "10734e1d-a433-444b-ac27-829293e7fc5f",
   "metadata": {},
   "outputs": [],
   "source": [
    "# pre processing\n",
    "df.duplicated().sum() # calculate total count of duplicates\n",
    "df.drop_duplicates(keep = 'first')\n",
    "df.dropna(inplace = True)"
   ]
  },
  {
   "cell_type": "code",
   "execution_count": 5,
   "id": "08ef22e7-9f38-4e4e-af43-272663807e88",
   "metadata": {},
   "outputs": [],
   "source": [
    "x = df.drop(['spam'], axis = 1)"
   ]
  },
  {
   "cell_type": "code",
   "execution_count": 6,
   "id": "23035c24-1040-4579-a134-d41381a02219",
   "metadata": {},
   "outputs": [],
   "source": [
    "y = df.drop(x.columns, axis = 1)"
   ]
  },
  {
   "cell_type": "code",
   "execution_count": 7,
   "id": "920d27a3-a600-452a-a030-68b409b0d8d5",
   "metadata": {},
   "outputs": [],
   "source": [
    "from sklearn.model_selection import train_test_split"
   ]
  },
  {
   "cell_type": "code",
   "execution_count": 8,
   "id": "d648b7fa-4b67-4993-900a-18666ec6b09a",
   "metadata": {},
   "outputs": [],
   "source": [
    "x_train, x_test, y_train, y_test = train_test_split(x, y, random_state = 42, test_size = 0.3)"
   ]
  },
  {
   "cell_type": "code",
   "execution_count": 11,
   "id": "dfca9674-b639-4739-b821-fb21f64f6d63",
   "metadata": {},
   "outputs": [],
   "source": [
    "from sklearn.naive_bayes import GaussianNB"
   ]
  },
  {
   "cell_type": "code",
   "execution_count": 9,
   "id": "6da30861-3ca6-4ad4-a5ba-4ef7b607a914",
   "metadata": {},
   "outputs": [],
   "source": [
    "model = GaussianNB()\n",
    "model.fit(x_train, y_train)"
   ]
  },
  {
   "cell_type": "code",
   "execution_count": null,
   "id": "4df2ebac-fa6f-4231-8b89-4df5f38f144d",
   "metadata": {},
   "outputs": [],
   "source": [
    "y_pred = model.predict(x_test)"
   ]
  },
  {
   "cell_type": "code",
   "execution_count": null,
   "id": "de36f8b2-2f25-45d5-8e73-4dfd79a873d5",
   "metadata": {},
   "outputs": [],
   "source": [
    "from sklearn.metrics import confusion_matrix, accuracy_score, precision_score, recall_score, f1_score"
   ]
  },
  {
   "cell_type": "code",
   "execution_count": 15,
   "id": "13938d66-c58c-4034-845a-44e5593980ba",
   "metadata": {},
   "outputs": [],
   "source": [
    "class Props:\n",
    "    def __init__(self, y_test, y_pred):\n",
    "        self.y_test = y_test\n",
    "        self.y_pred = y_pred\n",
    "\n",
    "    def conf_matrix(self):\n",
    "        tp = 0\n",
    "        tn = 0\n",
    "        fp = 0\n",
    "        fn = 0\n",
    "\n",
    "        for i in range(0, len(self.y_test)):\n",
    "            if self.y_test[i] == 1:\n",
    "                if self.y_pred[i] == 1:\n",
    "                    tp += 1\n",
    "                else:\n",
    "                    fn += 1\n",
    "            else:\n",
    "                if self.y_pred[i] == 1:\n",
    "                    fp += 1\n",
    "                else:\n",
    "                    tn += 1\n",
    "\n",
    "        return tp, fn, fp, tn\n",
    "        \n",
    "    def accuracy(self):\n",
    "        return (self.tp + self.tn) / (self.tp + self.tn + self.fn + self.fp)\n",
    "\n",
    "    def precision(self):\n",
    "        if(self.fp + self.tp) == 0:\n",
    "            return 0\n",
    "        return self.tp / (self.tp + self.fp)\n",
    "\n",
    "    def recall(self):\n",
    "        if(self.tp + self.fn) == 0:\n",
    "            return 0\n",
    "        return self.tp / (self.tp + self.fn)\n",
    "\n",
    "    def sensitivity(self):\n",
    "        return self.recall()\n",
    "\n",
    "    def f1(self):\n",
    "        pre = self.precision()\n",
    "        re = self.recall()\n",
    "\n",
    "        if pre == 0 or re == 0:\n",
    "            return 0\n",
    "\n",
    "        return (2 * pre * re) / (pre + re)\n",
    "\n",
    "    def specificity(self):\n",
    "        if(self.tn + self.fp) == 0:\n",
    "            return 0\n",
    "        return self.tn / (self.tn + self.fp)\n",
    "\n",
    "    def negative_predictive_value(self):\n",
    "        if(self.tn + self.fn) == 0:\n",
    "            return 0\n",
    "        return self.tn / (self.tn + self.fn)\n",
    "\n",
    "    def mcc(self):\n",
    "        # return (tp * tn - fp * fn) / sqrt( (tp + fp) * (tp + fn) * (tn + fp) * (tn + fn) )\n",
    "        try:\n",
    "            return (self.tp * self.tn - self.fp * self.fn) / np.sqrt( (self.tp + self.fp) * (self.tp + self.fn) * (self.tn + self.fp) * (self.tn + self.fn) )\n",
    "        except ZeroDivisionError:\n",
    "            return 0"
   ]
  }
 ],
 "metadata": {
  "kernelspec": {
   "display_name": "Python 3 (ipykernel)",
   "language": "python",
   "name": "python3"
  },
  "language_info": {
   "codemirror_mode": {
    "name": "ipython",
    "version": 3
   },
   "file_extension": ".py",
   "mimetype": "text/x-python",
   "name": "python",
   "nbconvert_exporter": "python",
   "pygments_lexer": "ipython3",
   "version": "3.12.2"
  }
 },
 "nbformat": 4,
 "nbformat_minor": 5
}
